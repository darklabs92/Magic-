{
 "cells": [
  {
   "cell_type": "code",
   "execution_count": 5,
   "metadata": {},
   "outputs": [],
   "source": [
    "# -*- coding: utf-8 -*-\n",
    "\"\"\"\n",
    "Created on Fri Jan 05 21:41:07 2018\n",
    "\n",
    "@author: vsdak\n",
    "\"\"\"\n",
    "# import libraries\n",
    "import os\n",
    "import pandas as pd\n",
    "import numpy as np\n"
   ]
  },
  {
   "cell_type": "code",
   "execution_count": 14,
   "metadata": {
    "collapsed": true
   },
   "outputs": [],
   "source": [
    "pth = \"F:/datasets/AV_Mercari_Price_Suggestion/\"\n",
    "\n",
    "# fn to read data in\n",
    "def read_data():\n",
    "    train = pd.read_csv(pth + \"train.tsv\", header = 0, sep = '\\t')\n",
    "    #test = pd.read_csv(pth + \"test.tsv\", header = 0, sep = '\\t')\n",
    "    return train\n",
    "\n"
   ]
  },
  {
   "cell_type": "code",
   "execution_count": 9,
   "metadata": {
    "collapsed": true
   },
   "outputs": [],
   "source": [
    "\n",
    "# fn to perform descriptive EDA on the data\n",
    "def eda_desciptive(train1):\n",
    "    print (\"The data types present in the training data set are -\")\n",
    "    print (train1.dtypes)\n",
    "    print (\"\\nTotal records are\", train1.shape)\n",
    "\n",
    "\n"
   ]
  },
  {
   "cell_type": "code",
   "execution_count": 10,
   "metadata": {
    "collapsed": true
   },
   "outputs": [],
   "source": [
    "# fn to begin prepping and feature engineering the data    \n",
    "def data_prep_1(train2):\n",
    "    \n",
    "    ## \n",
    "    # Feature Engineering on the Product Category field\n",
    "    # extract the Product Category, SubCategory and Product Type itself \n",
    "    ##\n",
    "    unique_prod_cat = train2.category_name.unique()\n",
    "    print (\"\\nTotal unique Categories of products being sold are\",len(unique_prod_cat))\n",
    "    \n",
    "    # splitting up the category data by sep='\\' for further analysis\n",
    "    unique_prod_cat_2 = [str(k).split('/') for k in unique_prod_cat]\n",
    "    unique_prod_cat_df = pd.DataFrame(unique_prod_cat_2)\n",
    "    unique_prod_cat_df.columns = [str(k2) for k2 in range(unique_prod_cat_df.shape[1])]\n",
    "    \n",
    "    # \n",
    "    unique_prod_cat_main = unique_prod_cat_df['0'].unique()\n",
    "    unique_prod_sub_cat = unique_prod_cat_df['1'].unique()\n",
    "\n",
    "\n"
   ]
  },
  {
   "cell_type": "code",
   "execution_count": 15,
   "metadata": {},
   "outputs": [
    {
     "name": "stdout",
     "output_type": "stream",
     "text": [
      "The data types present in the training data set are -\n",
      "train_id               int64\n",
      "name                  object\n",
      "item_condition_id      int64\n",
      "category_name         object\n",
      "brand_name            object\n",
      "price                float64\n",
      "shipping               int64\n",
      "item_description      object\n",
      "dtype: object\n",
      "\n",
      "Total records are (593376, 8)\n"
     ]
    }
   ],
   "source": [
    "# main func\n",
    "if __name__ == \"__main__\":\n",
    "    train_pd = read_data()\n",
    "    eda_desciptive(train_pd)"
   ]
  },
  {
   "cell_type": "code",
   "execution_count": null,
   "metadata": {
    "collapsed": true
   },
   "outputs": [],
   "source": []
  }
 ],
 "metadata": {
  "kernelspec": {
   "display_name": "Python 3",
   "language": "python",
   "name": "python3"
  },
  "language_info": {
   "codemirror_mode": {
    "name": "ipython",
    "version": 3
   },
   "file_extension": ".py",
   "mimetype": "text/x-python",
   "name": "python",
   "nbconvert_exporter": "python",
   "pygments_lexer": "ipython3",
   "version": "3.6.1"
  }
 },
 "nbformat": 4,
 "nbformat_minor": 2
}
